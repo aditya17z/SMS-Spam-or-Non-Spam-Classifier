{
 "cells": [
  {
   "cell_type": "code",
   "execution_count": 1,
   "id": "4311dc2a",
   "metadata": {},
   "outputs": [],
   "source": [
    "import numpy as np\n",
    "import pandas as pd\n",
    "import nltk\n",
    "import matplotlib.pyplot as plt\n",
    "from sklearn.model_selection import train_test_split\n",
    "from sklearn.feature_extraction.text import CountVectorizer, TfidfVectorizer\n",
    "from sklearn.linear_model import LogisticRegression\n",
    "from sklearn.naive_bayes import MultinomialNB\n",
    "from sklearn.ensemble import RandomForestClassifier\n",
    "from sklearn.model_selection import RandomizedSearchCV\n",
    "from sklearn import metrics\n",
    "from nltk import word_tokenize, FreqDist\n",
    "from nltk.corpus import stopwords\n",
    "from nltk.stem import WordNetLemmatizer\n",
    "import re\n",
    "from nltk.stem.porter import PorterStemmer\n",
    "from sklearn import svm\n",
    "from sklearn.neighbors import KNeighborsClassifier\n",
    "from sklearn.model_selection import cross_val_score"
   ]
  },
  {
   "cell_type": "code",
   "execution_count": 2,
   "id": "283997ff",
   "metadata": {},
   "outputs": [
    {
     "data": {
      "text/html": [
       "<div>\n",
       "<style scoped>\n",
       "    .dataframe tbody tr th:only-of-type {\n",
       "        vertical-align: middle;\n",
       "    }\n",
       "\n",
       "    .dataframe tbody tr th {\n",
       "        vertical-align: top;\n",
       "    }\n",
       "\n",
       "    .dataframe thead th {\n",
       "        text-align: right;\n",
       "    }\n",
       "</style>\n",
       "<table border=\"1\" class=\"dataframe\">\n",
       "  <thead>\n",
       "    <tr style=\"text-align: right;\">\n",
       "      <th></th>\n",
       "      <th>Target</th>\n",
       "      <th>Message</th>\n",
       "    </tr>\n",
       "  </thead>\n",
       "  <tbody>\n",
       "    <tr>\n",
       "      <th>0</th>\n",
       "      <td>ham</td>\n",
       "      <td>Go until jurong point, crazy.. Available only ...</td>\n",
       "    </tr>\n",
       "    <tr>\n",
       "      <th>1</th>\n",
       "      <td>ham</td>\n",
       "      <td>Ok lar... Joking wif u oni...</td>\n",
       "    </tr>\n",
       "    <tr>\n",
       "      <th>2</th>\n",
       "      <td>spam</td>\n",
       "      <td>Free entry in 2 a wkly comp to win FA Cup fina...</td>\n",
       "    </tr>\n",
       "    <tr>\n",
       "      <th>3</th>\n",
       "      <td>ham</td>\n",
       "      <td>U dun say so early hor... U c already then say...</td>\n",
       "    </tr>\n",
       "    <tr>\n",
       "      <th>4</th>\n",
       "      <td>ham</td>\n",
       "      <td>Nah I don't think he goes to usf, he lives aro...</td>\n",
       "    </tr>\n",
       "  </tbody>\n",
       "</table>\n",
       "</div>"
      ],
      "text/plain": [
       "  Target                                            Message\n",
       "0    ham  Go until jurong point, crazy.. Available only ...\n",
       "1    ham                      Ok lar... Joking wif u oni...\n",
       "2   spam  Free entry in 2 a wkly comp to win FA Cup fina...\n",
       "3    ham  U dun say so early hor... U c already then say...\n",
       "4    ham  Nah I don't think he goes to usf, he lives aro..."
      ]
     },
     "execution_count": 2,
     "metadata": {},
     "output_type": "execute_result"
    }
   ],
   "source": [
    "df = pd.read_csv(r\"C:\\Users\\adity\\Downloads\\archive (1)\\spam.csv\", encoding = 'latin-1')\n",
    "df.drop(columns = ['Unnamed: 2','Unnamed: 3', 'Unnamed: 4'], inplace = True)\n",
    "df.rename(columns = {'v1': 'Target', 'v2': 'Message'}, inplace = True)\n",
    "df.head()"
   ]
  },
  {
   "cell_type": "code",
   "execution_count": 3,
   "id": "3bd0ba34",
   "metadata": {},
   "outputs": [
    {
     "data": {
      "text/plain": [
       "0    4825\n",
       "1     747\n",
       "Name: Target, dtype: int64"
      ]
     },
     "execution_count": 3,
     "metadata": {},
     "output_type": "execute_result"
    }
   ],
   "source": [
    "df['Target'] = df['Target'].apply(lambda x: 0 if x == 'ham'else 1)\n",
    "df['Target'].value_counts()"
   ]
  },
  {
   "cell_type": "code",
   "execution_count": 4,
   "id": "a8254cb9",
   "metadata": {},
   "outputs": [
    {
     "data": {
      "text/plain": [
       "Target     0\n",
       "Message    0\n",
       "dtype: int64"
      ]
     },
     "execution_count": 4,
     "metadata": {},
     "output_type": "execute_result"
    }
   ],
   "source": [
    "ham_df = df[df['Target']==0]\n",
    "spam_df = df[df['Target']==1]\n",
    "ham_downsampled = ham_df.sample(spam_df.shape[0])\n",
    "df_balanced = pd.concat([ham_downsampled, spam_df])\n",
    "df_balanced.reset_index(drop = True, inplace = True)\n",
    "df_balanced.isna().sum()"
   ]
  },
  {
   "cell_type": "code",
   "execution_count": 5,
   "id": "4aa821e1",
   "metadata": {},
   "outputs": [
    {
     "name": "stdout",
     "output_type": "stream",
     "text": [
      "0    747\n",
      "1    747\n",
      "Name: Target, dtype: int64\n"
     ]
    },
    {
     "data": {
      "text/html": [
       "<div>\n",
       "<style scoped>\n",
       "    .dataframe tbody tr th:only-of-type {\n",
       "        vertical-align: middle;\n",
       "    }\n",
       "\n",
       "    .dataframe tbody tr th {\n",
       "        vertical-align: top;\n",
       "    }\n",
       "\n",
       "    .dataframe thead th {\n",
       "        text-align: right;\n",
       "    }\n",
       "</style>\n",
       "<table border=\"1\" class=\"dataframe\">\n",
       "  <thead>\n",
       "    <tr style=\"text-align: right;\">\n",
       "      <th></th>\n",
       "      <th>Target</th>\n",
       "      <th>Message</th>\n",
       "    </tr>\n",
       "  </thead>\n",
       "  <tbody>\n",
       "    <tr>\n",
       "      <th>0</th>\n",
       "      <td>0</td>\n",
       "      <td>A bloo bloo bloo I'll miss the first bowl</td>\n",
       "    </tr>\n",
       "    <tr>\n",
       "      <th>1</th>\n",
       "      <td>0</td>\n",
       "      <td>Havent shopping now lor i juz arrive only</td>\n",
       "    </tr>\n",
       "    <tr>\n",
       "      <th>2</th>\n",
       "      <td>0</td>\n",
       "      <td>So u wan 2 come for our dinner tonight a not?</td>\n",
       "    </tr>\n",
       "    <tr>\n",
       "      <th>3</th>\n",
       "      <td>0</td>\n",
       "      <td>I'm eatin now lor, but goin back to work soon....</td>\n",
       "    </tr>\n",
       "    <tr>\n",
       "      <th>4</th>\n",
       "      <td>0</td>\n",
       "      <td>Still i have not checked it da. . .</td>\n",
       "    </tr>\n",
       "  </tbody>\n",
       "</table>\n",
       "</div>"
      ],
      "text/plain": [
       "   Target                                            Message\n",
       "0       0          A bloo bloo bloo I'll miss the first bowl\n",
       "1       0          Havent shopping now lor i juz arrive only\n",
       "2       0      So u wan 2 come for our dinner tonight a not?\n",
       "3       0  I'm eatin now lor, but goin back to work soon....\n",
       "4       0                Still i have not checked it da. . ."
      ]
     },
     "execution_count": 5,
     "metadata": {},
     "output_type": "execute_result"
    }
   ],
   "source": [
    "print(df_balanced['Target'].value_counts())\n",
    "df_balanced.head()"
   ]
  },
  {
   "cell_type": "code",
   "execution_count": 6,
   "id": "46b7f543",
   "metadata": {},
   "outputs": [
    {
     "name": "stdout",
     "output_type": "stream",
     "text": [
      "0     a bloo bloo bloo i ll miss the first bowl\n",
      "1     havent shopping now lor i juz arrive only\n",
      "2    so u wan come for our dinner tonight a not\n",
      "Name: Message, dtype: object\n"
     ]
    }
   ],
   "source": [
    "txt = []\n",
    "corpus = list(df_balanced['Message'])\n",
    "for i in range(len(corpus)):\n",
    "    r = re.sub('[^a-zA-Z]', ' ', corpus[i])\n",
    "    r = r.lower()\n",
    "    r = r.split()\n",
    "    r = ' '.join(r)\n",
    "    txt.append(r)\n",
    "df_balanced['Message'] = txt\n",
    "print(df_balanced['Message'][:3])"
   ]
  },
  {
   "cell_type": "code",
   "execution_count": 7,
   "id": "124e4a19",
   "metadata": {},
   "outputs": [
    {
     "name": "stdout",
     "output_type": "stream",
     "text": [
      "0    [a, bloo, bloo, bloo, i, ll, miss, the, first,...\n",
      "1    [havent, shopping, now, lor, i, juz, arrive, o...\n",
      "2    [so, u, wan, come, for, our, dinner, tonight, ...\n",
      "Name: Message, dtype: object\n"
     ]
    }
   ],
   "source": [
    "df_balanced['Message'] = df_balanced.apply(lambda row: word_tokenize(row['Message']), axis = 1)\n",
    "print(df_balanced['Message'][:3])"
   ]
  },
  {
   "cell_type": "code",
   "execution_count": 8,
   "id": "d5ea7085",
   "metadata": {},
   "outputs": [
    {
     "name": "stdout",
     "output_type": "stream",
     "text": [
      "0    [bloo, bloo, bloo, miss, first, bowl]\n",
      "1     [havent, shopping, lor, juz, arrive]\n",
      "2          [u, wan, come, dinner, tonight]\n",
      "Name: Message, dtype: object\n"
     ]
    }
   ],
   "source": [
    "stop_words = set(stopwords.words('english'))\n",
    "stop_list = []\n",
    "for i in range(len(df_balanced)):\n",
    "        msg = df_balanced['Message'][i]\n",
    "        msg = [word for word in msg if word not in stop_words]\n",
    "        stop_list.append(msg)\n",
    "df_balanced['Message'] = stop_list\n",
    "print(df_balanced['Message'][:3])"
   ]
  },
  {
   "cell_type": "code",
   "execution_count": 9,
   "id": "27f4670f",
   "metadata": {},
   "outputs": [
    {
     "name": "stdout",
     "output_type": "stream",
     "text": [
      "0    [bloo, bloo, bloo, miss, first, bowl]\n",
      "1          [havent, shop, lor, juz, arriv]\n",
      "2          [u, wan, come, dinner, tonight]\n",
      "Name: Message, dtype: object\n"
     ]
    }
   ],
   "source": [
    "ps = PorterStemmer()\n",
    "stem_list = []\n",
    "for i in range(len(df_balanced)):\n",
    "    txt = df_balanced['Message'][i]\n",
    "    txt = [ps.stem(word) for word in txt]\n",
    "    stem_list.append(txt)\n",
    "df_balanced['Message'] = stem_list\n",
    "print(df_balanced['Message'][:3])"
   ]
  },
  {
   "cell_type": "code",
   "execution_count": 10,
   "id": "4ffc993e",
   "metadata": {},
   "outputs": [
    {
     "name": "stdout",
     "output_type": "stream",
     "text": [
      "0    bloo bloo bloo miss first bowl\n",
      "1         havent shop lor juz arriv\n",
      "2         u wan come dinner tonight\n",
      "Name: Message, dtype: object\n"
     ]
    }
   ],
   "source": [
    "corpus = []\n",
    "for i in df_balanced['Message']:\n",
    "    msg = ' '.join(row for row in i)\n",
    "    corpus.append(msg)\n",
    "df_balanced['Message'] = corpus\n",
    "print(df_balanced['Message'][:3])"
   ]
  },
  {
   "cell_type": "code",
   "execution_count": 11,
   "id": "568fe200",
   "metadata": {},
   "outputs": [],
   "source": [
    "x_train, x_test, y_train, y_test = train_test_split(df_balanced['Message'], df_balanced['Target'], test_size = 0.2, random_state = 42)"
   ]
  },
  {
   "cell_type": "code",
   "execution_count": 12,
   "id": "833bf0f8",
   "metadata": {},
   "outputs": [],
   "source": [
    "tv = TfidfVectorizer()\n",
    "x_train_tv = tv.fit_transform(x_train)\n",
    "x_test_tv = tv.transform(x_test)"
   ]
  },
  {
   "cell_type": "code",
   "execution_count": 13,
   "id": "36ef3229",
   "metadata": {},
   "outputs": [
    {
     "name": "stdout",
     "output_type": "stream",
     "text": [
      "Precision   0.95\n",
      "Accuracy   0.96\n"
     ]
    }
   ],
   "source": [
    "nb_model = MultinomialNB()\n",
    "nb_model.fit(x_train_tv, y_train)\n",
    "nb_predict = nb_model.predict(x_test_tv)\n",
    "print('Precision', ' ', round(metrics.precision_score(y_test, nb_predict), 2))\n",
    "print('Accuracy', ' ', round(metrics.accuracy_score(y_test, nb_predict), 2))"
   ]
  },
  {
   "cell_type": "code",
   "execution_count": 14,
   "id": "0e8df9bc",
   "metadata": {},
   "outputs": [
    {
     "name": "stdout",
     "output_type": "stream",
     "text": [
      "Cross Validated Accuracy: 0.95\n"
     ]
    }
   ],
   "source": [
    "cv_score = cross_val_score(nb_model, x_train_tv, y_train, scoring='accuracy', cv=10)\n",
    "print('Cross Validated Accuracy:', round(cv_score.mean(),2))"
   ]
  },
  {
   "cell_type": "code",
   "execution_count": 15,
   "id": "d0a1669c",
   "metadata": {},
   "outputs": [
    {
     "name": "stdout",
     "output_type": "stream",
     "text": [
      "Precision   0.96\n",
      "Accuracy   0.94\n"
     ]
    }
   ],
   "source": [
    "lr_model = LogisticRegression()\n",
    "lr_model.fit(x_train_tv, y_train)\n",
    "lr_predict = lr_model.predict(x_test_tv)\n",
    "print('Precision', ' ', round(metrics.precision_score(y_test, lr_predict), 2))\n",
    "print('Accuracy', ' ', round(metrics.accuracy_score(y_test, lr_predict), 2))"
   ]
  },
  {
   "cell_type": "code",
   "execution_count": 16,
   "id": "cda787d8",
   "metadata": {},
   "outputs": [
    {
     "name": "stdout",
     "output_type": "stream",
     "text": [
      "Cross Validated Accuracy: 0.95\n"
     ]
    }
   ],
   "source": [
    "cv_score = cross_val_score(lr_model, x_train_tv, y_train, scoring='accuracy', cv=10)\n",
    "print('Cross Validated Accuracy:', round(cv_score.mean(),2))"
   ]
  },
  {
   "cell_type": "code",
   "execution_count": 17,
   "id": "eff4a3f5",
   "metadata": {},
   "outputs": [
    {
     "name": "stdout",
     "output_type": "stream",
     "text": [
      "Precision   0.99\n",
      "Accuracy   0.95\n"
     ]
    }
   ],
   "source": [
    "rf_model = RandomForestClassifier()\n",
    "rf_model.fit(x_train_tv, y_train)\n",
    "rf_predict = rf_model.predict(x_test_tv)\n",
    "print('Precision', ' ', round(metrics.precision_score(y_test, rf_predict), 2))\n",
    "print('Accuracy', ' ', round(metrics.accuracy_score(y_test, rf_predict), 2))"
   ]
  },
  {
   "cell_type": "code",
   "execution_count": 18,
   "id": "f377e78f",
   "metadata": {},
   "outputs": [
    {
     "name": "stdout",
     "output_type": "stream",
     "text": [
      "Cross Validated Accuracy: 0.95\n"
     ]
    }
   ],
   "source": [
    "cv_score = cross_val_score(rf_model, x_train_tv, y_train, scoring='accuracy', cv=10)\n",
    "print('Cross Validated Accuracy:', round(cv_score.mean(),2))"
   ]
  },
  {
   "cell_type": "code",
   "execution_count": 19,
   "id": "7748aa5d",
   "metadata": {},
   "outputs": [
    {
     "name": "stdout",
     "output_type": "stream",
     "text": [
      "Precision   0.97\n",
      "Accuracy   0.94\n"
     ]
    }
   ],
   "source": [
    "svm_model = svm.SVC()\n",
    "svm_model.fit(x_train_tv, y_train)\n",
    "svm_predict = svm_model.predict(x_test_tv)\n",
    "print('Precision', ' ', round(metrics.precision_score(y_test, svm_predict), 2))\n",
    "print('Accuracy', ' ', round(metrics.accuracy_score(y_test, svm_predict), 2))"
   ]
  },
  {
   "cell_type": "code",
   "execution_count": 20,
   "id": "fb5d91a3",
   "metadata": {},
   "outputs": [
    {
     "name": "stdout",
     "output_type": "stream",
     "text": [
      "Cross Validated Accuracy: 0.95\n"
     ]
    }
   ],
   "source": [
    "cv_score = cross_val_score(svm_model, x_train_tv, y_train, scoring='accuracy', cv=10)\n",
    "print('Cross Validated Accuracy:', round(cv_score.mean(),2))"
   ]
  },
  {
   "cell_type": "code",
   "execution_count": 21,
   "id": "974b5d5c",
   "metadata": {},
   "outputs": [
    {
     "name": "stdout",
     "output_type": "stream",
     "text": [
      "Precision   0.97\n",
      "Accuracy   0.91\n"
     ]
    }
   ],
   "source": [
    "k_model = KNeighborsClassifier()\n",
    "k_model.fit(x_train_tv,y_train)\n",
    "k_predict = k_model.predict(x_test_tv)\n",
    "print('Precision', ' ', round(metrics.precision_score(y_test, k_predict), 2))\n",
    "print('Accuracy', ' ', round(metrics.accuracy_score(y_test, k_predict), 2))"
   ]
  },
  {
   "cell_type": "code",
   "execution_count": 22,
   "id": "9e3454e7",
   "metadata": {},
   "outputs": [
    {
     "name": "stdout",
     "output_type": "stream",
     "text": [
      "Cross Validated Accuracy: 0.91\n"
     ]
    }
   ],
   "source": [
    "cv_score = cross_val_score(k_model, x_train_tv, y_train, scoring='accuracy', cv=10)\n",
    "print('Cross Validated Accuracy:', round(cv_score.mean(),2))"
   ]
  },
  {
   "cell_type": "code",
   "execution_count": null,
   "id": "fd05fb46",
   "metadata": {},
   "outputs": [],
   "source": []
  }
 ],
 "metadata": {
  "kernelspec": {
   "display_name": "Python 3 (ipykernel)",
   "language": "python",
   "name": "python3"
  },
  "language_info": {
   "codemirror_mode": {
    "name": "ipython",
    "version": 3
   },
   "file_extension": ".py",
   "mimetype": "text/x-python",
   "name": "python",
   "nbconvert_exporter": "python",
   "pygments_lexer": "ipython3",
   "version": "3.11.4"
  }
 },
 "nbformat": 4,
 "nbformat_minor": 5
}
